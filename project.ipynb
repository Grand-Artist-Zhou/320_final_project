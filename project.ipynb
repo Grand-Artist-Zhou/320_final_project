{
 "cells": [
  {
   "cell_type": "markdown",
   "metadata": {},
   "source": [
    "How strong is Magnus? Should teams ban Magnus in ti10 competition?"
   ]
  },
  {
   "cell_type": "markdown",
   "metadata": {},
   "source": [
    "Yizhou Li"
   ]
  },
  {
   "cell_type": "markdown",
   "metadata": {},
   "source": [
    "Dota 2 (Defense of the Ancients 2) was designed by IceFrog and published by Valve in 2013. It was originally a game mode for Blizzard Entertainment's Warcraft III: Reign of Chaos. It was one of the greatest video games in all times, and it was rated high by IGN: 9.4/10, GameSpot: 9/10, etc. As I was writting this document in May/2 7:00 pm, there were still around 361,449 players playing this game.\n",
    "\n",
    "<img src=\"files/steam_stats.png\" width=\"800\" height=\"400\">\n",
    "\n",
    "Dota 2 is a type of MOBA (multiplayer online battle arena) game. There are two sides in Dota 2, one is called Dire, which always appeared at upper right corner of the map. The other is called Radiant, which always appeared at lower left corner of the map. There are 10 player in total, and they will be randomly assigned as 5 players in Dire and 5 players in Radiant. Before the match started, players need to pick a hero to control. Generally, heroes are classified by role of carry, mid, tank, support. In order to win the game, players should have all these roles in their teams and cooperate with each other. Although sometimes players can win with only one or two roles in their teams, the best practices of winning the game is to have all of the roles. Heores can have the same roles, but each heores are unique. The have their unique skills, damage, health, strong period, etc. After picking a hero, the players will see the map like this:\n",
    "\n",
    "<img src=\"files/map.png\" width=\"800\" height=\"400\">\n",
    "\n",
    "As the map shows, there are three roads leading to opposite team's base. Every 30 seconds, creeps will spawn in both team's base follow three routes to attack. players can choose one route, and follow creeps to attack the other team. However, the enemy heroes controled by enemy team, and enemy creeps and defense towers will slow down your pace of attacking. To destroy enemy team's base, you have to use strength of your hero, and try to kill enemy players and creeps to accumulate experience and gold. More experience and gold will strength your skill, and allow you to purchase more pwerful items at your base. In the end, one team will destroy the other team's base, and the game is over.\n",
    "\n",
    "As a 1000+ total play time and 5 years since playing pro Dota 2 player, I am deeply interested in heros' gameplay strategy, lineup matching, and winning percentage against different heroes. Recently, I paid special attention to Magnus, which is a hero charactrized by high health, ability to stunn enemy heroes at the same time, and a great initiator. Why do I care about him? It's because <(more intro about ti10 mag etc)>\n",
    "\n",
    "Dota 2 official site: https://www.dota2.com/home\n",
    "Dota 2 Steam store site: https://store.steampowered.com/app/570/Dota_2/\n",
    "Dota 2 Wikipedia: https://en.wikipedia.org/wiki/Dota_2\n",
    "Dota 2 Reddit: https://www.reddit.com/r/DotA2/"
   ]
  },
  {
   "cell_type": "code",
   "execution_count": null,
   "metadata": {},
   "outputs": [],
   "source": []
  },
  {
   "cell_type": "code",
   "execution_count": null,
   "metadata": {},
   "outputs": [],
   "source": []
  },
  {
   "cell_type": "markdown",
   "metadata": {},
   "source": []
  }
 ],
 "metadata": {
  "interpreter": {
   "hash": "38cca0c38332a56087b24af0bc80247f4fced29cb4f7f437d91dc159adec9c4e"
  },
  "kernelspec": {
   "display_name": "Python 3.9.7 ('base')",
   "language": "python",
   "name": "python3"
  },
  "language_info": {
   "name": "python",
   "version": "3.9.7"
  },
  "orig_nbformat": 4
 },
 "nbformat": 4,
 "nbformat_minor": 2
}
