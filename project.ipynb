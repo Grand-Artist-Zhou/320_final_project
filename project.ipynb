{
 "cells": [
  {
   "cell_type": "markdown",
   "metadata": {},
   "source": [
    "How strong is Magnus? Should teams ban Magnus in ti10 competition?"
   ]
  },
  {
   "cell_type": "markdown",
   "metadata": {},
   "source": [
    "Yizhou Li"
   ]
  },
  {
   "cell_type": "markdown",
   "metadata": {},
   "source": [
    "Dota 2 (Defense of the Ancients 2) was designed by IceFrog and published by Valve in 2013. It was originally a game mode for Blizzard Entertainment's Warcraft III: Reign of Chaos. It was one of the greatest video games in all times, and it was rated high by IGN: 9.4/10, GameSpot: 9/10, etc. As I was writting this document in May/2 7:00 pm, there were still around 361,449 players playing this game.\n",
    "\n",
    "<img src=\"files/steam_stats.png\" width=\"800\" height=\"400\">\n",
    "\n",
    "Dota 2 is a type of MOBA (multiplayer online battle arena) game. There are two sides in Dota 2, one is called Dire, which always appeared at upper right corner of the map. The other is called Radiant, which always appeared at lower left corner of the map. There are 10 player in total, and they will be randomly assigned as 5 players in Dire and 5 players in Radiant. Before the match started, players need to pick a hero to control. Generally, heroes are classified by role of carry, mid, tank, support. In order to win the game, players should have all these roles in their teams and cooperate with each other. Although sometimes players can win with only one or two roles in their teams, the best practices of winning the game is to have all of the roles. Heores can have the same roles, but each heores are unique. The have their unique skills, damage, health, strong period, etc. After picking a hero, the players will see the map like this:\n",
    "\n",
    "<img src=\"files/map.png\" width=\"800\" height=\"400\">\n",
    "\n",
    "As the map shows, there are three roads leading to opposite team's base. Every 30 seconds, creeps will spawn in both team's base follow three routes to attack. players can choose one route, and follow creeps to attack the other team. However, the enemy heroes controled by enemy team, and enemy creeps and defense towers will slow down your pace of attacking. To destroy enemy team's base, you have to use strength of your hero, and try to kill enemy players and creeps to accumulate experience and gold. More experience and gold will strength your skill, and allow you to purchase more pwerful items at your base. In the end, one team will destroy the other team's base, and the game is over.\n",
    "\n",
    "As a pro Dota player with 1500h+ play time and 5 years game experience, I am deeply interested in heros' gameplay strategy, lineup matching, and winning percentage against different heroes. Recently, I paid special attention to Magnus, which is a hero charactrized by high strength, able to hard-locking down on enemy heroes, and an great initiator. Why do I analyze this hero? It's because in TI 10 (The International is the biggest annual event hosted by Valve. It gathers top ranking Dota teams around the world to compete in this championship, and it has total prize pool of 40 million dollars funded by Dota 2 comunity) final match PSG.LGD vs Team Spirit, Magnus was picked 4 times, and there were only 5 matches in total. So many great and decisive moments were created as Magnus played by Team Spirit. It's the Magnus' long lasting ulitimate and blink dagger pushing enemies back made Team Spirit chamipion of the Ti10.\n",
    "\n",
    "<img src=\"files/Dota2_TI10_Magnus.jpeg\" width=\"800\" height=\"400\">\n",
    "\n",
    "<img src=\"files/Screen Shot 2022-05-03 at 5.32.06 PM.png\" width=\"800\" height=\"400\">\n",
    "\n",
    "Dota 2 official site: https://www.dota2.com/home\n",
    "Dota 2 Steam store site: https://store.steampowered.com/app/570/Dota_2/\n",
    "Dota 2 Wikipedia: https://en.wikipedia.org/wiki/Dota_2\n",
    "Dota 2 Reddit: https://www.reddit.com/r/DotA2/\n",
    "Introduction of Magnus: https://dota2.fandom.com/wiki/Magnus"
   ]
  },
  {
   "cell_type": "markdown",
   "metadata": {},
   "source": [
    "Now, let's begin analyse. We want to know in recent matches what's the general win rate of Magnus in different ranks? Comparing to other heroes, how good was Magnus?"
   ]
  },
  {
   "cell_type": "code",
   "execution_count": 31,
   "metadata": {},
   "outputs": [
    {
     "data": {
      "text/html": [
       "<div>\n",
       "<style scoped>\n",
       "    .dataframe tbody tr th:only-of-type {\n",
       "        vertical-align: middle;\n",
       "    }\n",
       "\n",
       "    .dataframe tbody tr th {\n",
       "        vertical-align: top;\n",
       "    }\n",
       "\n",
       "    .dataframe thead th {\n",
       "        text-align: right;\n",
       "    }\n",
       "</style>\n",
       "<table border=\"1\" class=\"dataframe\">\n",
       "  <thead>\n",
       "    <tr style=\"text-align: right;\">\n",
       "      <th></th>\n",
       "      <th>Heroes</th>\n",
       "      <th>Herald picks</th>\n",
       "      <th>Herald wins</th>\n",
       "      <th>Guardian picks</th>\n",
       "      <th>Guardian wins</th>\n",
       "      <th>Crusader picks</th>\n",
       "      <th>Crusader wins</th>\n",
       "      <th>Archon picks</th>\n",
       "      <th>Archon wins</th>\n",
       "      <th>Legend picks</th>\n",
       "      <th>Legend wins</th>\n",
       "      <th>Ancient picks</th>\n",
       "      <th>Ancient wins</th>\n",
       "      <th>Divine picks</th>\n",
       "      <th>Divine wins</th>\n",
       "      <th>Immortal picks</th>\n",
       "      <th>Immortal wins</th>\n",
       "    </tr>\n",
       "  </thead>\n",
       "  <tbody>\n",
       "    <tr>\n",
       "      <th>0</th>\n",
       "      <td>Magnus</td>\n",
       "      <td>8230</td>\n",
       "      <td>3804</td>\n",
       "      <td>19042</td>\n",
       "      <td>8799</td>\n",
       "      <td>27462</td>\n",
       "      <td>12909</td>\n",
       "      <td>24454</td>\n",
       "      <td>11587</td>\n",
       "      <td>14598</td>\n",
       "      <td>7158</td>\n",
       "      <td>6792</td>\n",
       "      <td>3241</td>\n",
       "      <td>3212</td>\n",
       "      <td>1530</td>\n",
       "      <td>977</td>\n",
       "      <td>467</td>\n",
       "    </tr>\n",
       "  </tbody>\n",
       "</table>\n",
       "</div>"
      ],
      "text/plain": [
       "   Heroes  Herald picks  Herald wins  Guardian picks  Guardian wins  \\\n",
       "0  Magnus          8230         3804           19042           8799   \n",
       "\n",
       "   Crusader picks  Crusader wins  Archon picks  Archon wins  Legend picks  \\\n",
       "0           27462          12909         24454        11587         14598   \n",
       "\n",
       "   Legend wins  Ancient picks  Ancient wins  Divine picks  Divine wins  \\\n",
       "0         7158           6792          3241          3212         1530   \n",
       "\n",
       "   Immortal picks  Immortal wins  \n",
       "0             977            467  "
      ]
     },
     "execution_count": 31,
     "metadata": {},
     "output_type": "execute_result"
    }
   ],
   "source": [
    "# To gather related data, we use opendota api (a api famous for statistical analysis in Dota 2)\n",
    "# and python requests to get the data back.\n",
    "# opendota link: https://www.opendota.com/\n",
    "# api docs: https://docs.opendota.com/\n",
    "import requests\n",
    "import json\n",
    "link = 'https://api.opendota.com/api/heroStats'\n",
    "r = requests.get(link)\n",
    "data = json.loads(r.text)\n",
    "\n",
    "# We use json library to parse returned json objects, and recompile the information into pandas dataframe.\n",
    "import pandas as pd\n",
    "df = pd.DataFrame(data)\n",
    "\n",
    "# Clean and reformat the dataframe, so we only see data related to our task.\n",
    "df = df[[\"localized_name\", \"1_pick\", \"1_win\", \"2_pick\", \"2_win\", \"3_pick\", \"3_win\", \"4_pick\", \"4_win\",\n",
    "\"5_pick\", \"5_win\", \"6_pick\", \"6_win\", \"7_pick\", \"7_win\", \"8_pick\", \"8_win\"]]\n",
    "\n",
    "# Rename ranking\n",
    "df = df.rename(columns={\"localized_name\":\"Heroes\", \"1_pick\":\"Herald picks\", \"1_win\":\"Herald wins\",\n",
    "                        \"2_pick\":\"Guardian picks\", \"2_win\":\"Guardian wins\", \"3_pick\":\"Crusader picks\",\n",
    "                        \"3_win\":\"Crusader wins\", \"4_pick\":\"Archon picks\", \"4_win\":\"Archon wins\",\n",
    "                        \"5_pick\":\"Legend picks\", \"5_win\":\"Legend wins\", \"6_pick\":\"Ancient picks\",\n",
    "                        \"6_win\":\"Ancient wins\", \"7_pick\":\"Divine picks\", \"7_win\":\"Divine wins\",\n",
    "                        \"8_pick\":\"Immortal picks\", \"8_win\":\"Immortal wins\"})\n",
    "all_hero_wp_df = df.copy()\n",
    "magnus_df = df[df[\"Heroes\"] == \"Magnus\"]\n",
    "magnus_df.reset_index(inplace=True, drop=True)\n",
    "magnus_df.head()"
   ]
  },
  {
   "cell_type": "markdown",
   "metadata": {},
   "source": [
    "Generally speaking, players with Herald, Guardian, or Crusader titles are newbies. Players with Archon, Legend, or Ancient titles are medium players. Players with Divine or Immortal titles are pro players. Next, we will calculate the win rate of Magnus in different player rankings, and plot a few graph to visualize the results."
   ]
  },
  {
   "cell_type": "code",
   "execution_count": 39,
   "metadata": {},
   "outputs": [
    {
     "data": {
      "image/png": "[encoded data removed]",
      "text/plain": [
       "<Figure size 432x288 with 1 Axes>"
      ]
     },
     "metadata": {
      "needs_background": "light"
     },
     "output_type": "display_data"
    }
   ],
   "source": [
    "import matplotlib.pyplot as plt\n",
    "fig = plt.figure()\n",
    "ax = fig.add_axes([0,0,1,1])\n",
    "ranks = ['Herald', 'Guardian', 'Crusader', 'Archon', 'Legend', 'Ancient', 'Divine', 'Immortal']\n",
    "v = [magnus_df.at[0, \"Herald picks\"], magnus_df.at[0, \"Guardian picks\"], magnus_df.at[0, \"Crusader picks\"],\n",
    "     magnus_df.at[0, \"Archon picks\"], magnus_df.at[0, \"Legend picks\"], magnus_df.at[0, \"Ancient picks\"],\n",
    "     magnus_df.at[0, \"Divine picks\"], magnus_df.at[0, \"Immortal picks\"]]\n",
    "ax.bar(ranks,v)\n",
    "ax.set_title(\"rankings vs the number of Magnus picked\")\n",
    "plt.show()"
   ]
  },
  {
   "cell_type": "markdown",
   "metadata": {},
   "source": [
    "Wait! Do people in Crusader pick Magnus the most simply because most of the Dota 2 players are concentrated in Crusader? For the sake of simplicity, I screen shooted Dota 2 players' distribution across different ranks. For most of the time, I think this reflect the players' distribution well across different time periods.\n",
    "\n",
    "<img src=\"files/Screen Shot 2022-05-03 at 7.59.35 PM.png\" width=\"800\" height=\"400\">"
   ]
  },
  {
   "cell_type": "markdown",
   "metadata": {},
   "source": [
    "As you see, most of the players are concentrated in Archon, but players in Crusader has most of the Magnus picked. So the first conclusion we have is people love to play Magnus in Crusader. Now, let's explore the win rate of picking Magnus in different ranks."
   ]
  },
  {
   "cell_type": "code",
   "execution_count": 48,
   "metadata": {},
   "outputs": [
    {
     "data": {
      "image/png": "[encoded data removed]",
      "text/plain": [
       "<Figure size 432x288 with 1 Axes>"
      ]
     },
     "metadata": {
      "needs_background": "light"
     },
     "output_type": "display_data"
    }
   ],
   "source": [
    "fig = plt.figure()\n",
    "ax = fig.add_axes([0,0,1,1])\n",
    "ranks = ['Herald', 'Guardian', 'Crusader', 'Archon', 'Legend', 'Ancient', 'Divine', 'Immortal']\n",
    "v = [magnus_df.at[0, \"Herald wins\"]/magnus_df.at[0, \"Herald picks\"],\n",
    "     magnus_df.at[0, \"Guardian wins\"]/magnus_df.at[0, \"Guardian picks\"],\n",
    "     magnus_df.at[0, \"Crusader wins\"]/magnus_df.at[0, \"Crusader picks\"],\n",
    "     magnus_df.at[0, \"Archon wins\"]/magnus_df.at[0, \"Archon picks\"],\n",
    "     magnus_df.at[0, \"Legend wins\"]/magnus_df.at[0, \"Legend picks\"],\n",
    "     magnus_df.at[0, \"Ancient wins\"]/magnus_df.at[0, \"Ancient picks\"],\n",
    "     magnus_df.at[0, \"Divine wins\"]/magnus_df.at[0, \"Divine picks\"],\n",
    "     magnus_df.at[0, \"Immortal wins\"]/magnus_df.at[0, \"Immortal picks\"]]\n",
    "ax.bar(ranks,v)\n",
    "ax.set_title(\"rankings vs picked Magnus win rate\")\n",
    "plt.show() # td: show exact number? compare jugg low win rate"
   ]
  },
  {
   "cell_type": "code",
   "execution_count": null,
   "metadata": {},
   "outputs": [],
   "source": []
  }
 ],
 "metadata": {
  "interpreter": {
   "hash": "38cca0c38332a56087b24af0bc80247f4fced29cb4f7f437d91dc159adec9c4e"
  },
  "kernelspec": {
   "display_name": "Python 3.9.7 ('base')",
   "language": "python",
   "name": "python3"
  },
  "language_info": {
   "codemirror_mode": {
    "name": "ipython",
    "version": 3
   },
   "file_extension": ".py",
   "mimetype": "text/x-python",
   "name": "python",
   "nbconvert_exporter": "python",
   "pygments_lexer": "ipython3",
   "version": "3.9.7"
  },
  "orig_nbformat": 4
 },
 "nbformat": 4,
 "nbformat_minor": 2
}
